{
 "cells": [
  {
   "cell_type": "markdown",
   "metadata": {},
   "source": [
    "# 🌀 BBH Simulation Test Notebook\n",
    "\n",
    "This notebook checks that your BBH (binary black hole) simulation environment is working.\n",
    "\n",
    "It will:\n",
    "1. Load the example parameter file\n",
    "2. Display basic configuration data\n",
    "3. Run a small mock evolution loop\n",
    "4. Plot a simple test waveform"
   ]
  },
  {
   "cell_type": "code",
   "execution_count": null,
   "metadata": {},
   "outputs": [],
   "source": [
    "import yaml, json, numpy as np, matplotlib.pyplot as plt\n",
    "\n",
    "print('✅ Environment check:')\n",
    "print(' - YAML available:', yaml.__version__)\n",
    "print(' - NumPy available:', np.__version__)\n",
    "print(' - Matplotlib available:', plt.__version__)"
   ]
  },
  {
   "cell_type": "code",
   "execution_count": null,
   "metadata": {},
   "outputs": [],
   "source": [
    "# Load the example BBH parameter file\n",
    "with open('../params/example_bbh.yaml') as f:\n",
    "    params = yaml.safe_load(f)\n",
    "\n",
    "print('Simulation name:', params['simulation_name'])\n",
    "print('Initial masses:', params['initial_data']['m1'], params['initial_data']['m2'])\n",
    "print('Spins:', params['initial_data']['spin1'], params['initial_data']['spin2'])"
   ]
  },
  {
   "cell_type": "code",
   "execution_count": null,
   "metadata": {},
   "outputs": [],
   "source": [
    "# Generate a simple mock waveform\n",
    "t = np.linspace(0, 100, 2000)\n",
    "h_plus = np.sin(0.2 * t) * np.exp(-0.002 * t)\n",
    "h_cross = np.cos(0.2 * t) * np.exp(-0.002 * t)\n",
    "\n",
    "plt.figure(figsize=(8, 4))\n",
    "plt.plot(t, h_plus, label=r'$h_+$')\n",
    "plt.plot(t, h_cross, label=r'$h_\\times$')\n",
    "plt.xlabel('Time [M]')\n",
    "plt.ylabel('Strain')\n",
    "plt.title('Mock GW Strain from Example BBH Simulation')\n",
    "plt.legend()\n",
    "plt.tight_layout()\n",
    "plt.show()"
   ]
  },
 "metadata": {
  "kernelspec": {
   "display_name": "Python 3",
   "language": "python",
   "name": "python3"
  },
  "language_info": {
   "name": "python",
   "version": "3.10"
  }
 },
 "nbformat": 4,
 "nbformat_minor": 5
}
